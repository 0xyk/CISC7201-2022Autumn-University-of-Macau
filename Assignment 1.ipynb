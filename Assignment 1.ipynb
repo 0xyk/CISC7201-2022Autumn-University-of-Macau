{
 "cells": [
  {
   "cell_type": "markdown",
   "id": "43a4ed89",
   "metadata": {},
   "source": [
    "## 01 Hello World!\n",
    "### Description\n",
    "A \"Hello, World!\" program generally is a computer program that outputs or displays the message \"Hello World!\".\n",
    "\n",
    "Such a program is very simple in most programming languages, and is often used to illustrate the basic syntax of a programming language.\n",
    "\n",
    "It is often the first program written by people learning to code.It can also be used as a sanity test to make sure that a computer language is correctly installed, and that the operator understands how to use it.\n",
    "\n",
    "**Please write a program to get the given input and print out the outputusing the format of the output samples:**\n",
    "### Input\n",
    "Given a string s\n",
    "### Output\n",
    "Print out the sentence using the format of the output samples.\n",
    "\n",
    "**Sample Input 1** `World`\n",
    "\n",
    "**Sample Output 1** `Hello World`\n",
    "\n",
    "**Sample Input 2** `University of Macau` \n",
    "\n",
    "**Sample Output 2** `Hello University of Macau`\n",
    "\n",
    "**Sample Input 3** `123` \n",
    "\n",
    "**Sample Output 3** `Hello 123`\n",
    "### Hint\n",
    "You can apply '+' operator to concatenate strings\n",
    "\n",
    "For example \"Apple\" + \"Pen\" = \"ApplePen\""
   ]
  },
  {
   "cell_type": "code",
   "execution_count": 1,
   "id": "7e9ca935",
   "metadata": {},
   "outputs": [
    {
     "name": "stdout",
     "output_type": "stream",
     "text": [
      "World\n",
      "Hello World\n"
     ]
    }
   ],
   "source": [
    "s = input()\n",
    "print('Hello ' + s)"
   ]
  },
  {
   "cell_type": "markdown",
   "id": "65b3640e",
   "metadata": {},
   "source": [
    "## 02 Sum of 5 nums\n",
    "### Description\n",
    "Given 5 integer numbers, please print the summation of those numbers as the result\n",
    "### Input\n",
    "5 integer numbers in a line\n",
    "\n",
    "Each number < 300\n",
    "### Output\n",
    "An integer represent the summation\n",
    "\n",
    "**Sample Input 1** `1 2 3 4 5`\n",
    "\n",
    "**Sample Output 1** `15`\n",
    "\n",
    "**Sample Input 2** `2 8 10 13 54`\n",
    "\n",
    "**Sample Output 2** `87`"
   ]
  },
  {
   "cell_type": "code",
   "execution_count": 2,
   "id": "36685387",
   "metadata": {},
   "outputs": [
    {
     "name": "stdout",
     "output_type": "stream",
     "text": [
      "1 2 3 4 5\n",
      "15\n"
     ]
    }
   ],
   "source": [
    "num1,num2,num3,num4,num5 = [int(num) for num in input().split()]\n",
    "s= num1+num2+num3+num4+num5\n",
    "print(s)"
   ]
  },
  {
   "cell_type": "markdown",
   "id": "6e774c29",
   "metadata": {},
   "source": [
    "## 03 Function call practice\n",
    "### Description\n",
    "This question is set for you to get familiar with \"[function call](https://www.w3schools.com/python/python_functions.asp)\".\n",
    "\n",
    "You task is to implement the \"hello\" function giving a string as parameter ,you need to return the message as the sample shown\n",
    "\n",
    "input and print is not allowed in the function, we will call your function with parameter passing and print your result in outside codes.\n",
    "### Input\n",
    "A string is passed to your function\n",
    "### Output\n",
    "Don't print the result!\n",
    "\n",
    "Just complete the code and return the result in function!\n",
    "\n",
    "**Sample Input 1** `Jason`\n",
    "\n",
    "**Sample Output 1** `Hi,Jason!`\n",
    "\n",
    "**Sample Input 2** `Nick`\n",
    "\n",
    "**Sample Output 2** `Hi,Nick!`\n",
    "### Hint\n",
    "You can apply '+' operator to concatenate strings\n",
    "\n",
    "For example \"Apple\" + \"Pen\" = \"ApplePen\""
   ]
  },
  {
   "cell_type": "code",
   "execution_count": 3,
   "id": "05747dda",
   "metadata": {},
   "outputs": [
    {
     "name": "stdout",
     "output_type": "stream",
     "text": [
      "Jason\n",
      "Hi,Jason!\n"
     ]
    }
   ],
   "source": [
    "def hello(name:str)->str:\n",
    "  #write your code here to complete this function\n",
    "  msg = (\"Hi,{}!\").format(name)\n",
    "  return msg\n",
    "  \n",
    "print(hello(input()))"
   ]
  },
  {
   "cell_type": "markdown",
   "id": "73390e36",
   "metadata": {},
   "source": [
    "## 04 Rectangle area\n",
    "### Description\n",
    "Write a Python program that accepts the length and the width of a rectangle from the user and then returns the area of the rectangle.\n",
    "### Input\n",
    "two integer a,b\n",
    "\n",
    "a,b < 300,000\n",
    "### Output\n",
    "one integer area\n",
    "\n",
    "**Sample Input 1** `2 5`\n",
    "\n",
    "**Sample Output 1** `10`\n",
    "\n",
    "**Sample Input 2** `2000 5`\n",
    "\n",
    "**Sample Output 2** `10000`\n",
    "\n",
    "**Sample Input 3** `5000 5000`\n",
    "\n",
    "**Sample Output 3** `25000000`\n",
    "### Hint\n",
    "In the online judge system, the inputs come from \"[standard input](http://www.linfo.org/standard_input.html#:~:text=Standard%20Input%20Definition,of%20standard%20streams%20of%20data.)\". To read the data from standard input, we can use a function called \"[input()](https://www.w3schools.com/python/ref_func_input.asp)\".\n",
    "```\n",
    "in_line = input()\n",
    "```\n",
    "[Note 1]However, the input() function will only give you one single line of input (from standard input). To split the data from a single line, we need a function called \"[split()](https://www.w3schools.com/python/ref_string_split.asp)\" to help.\n",
    "```\n",
    "inputs = in_line.split()\n",
    "print(inputs[0], inputs[1])\n",
    "```\n",
    "[Note 2]Even we have successfully split the data, the data is still in \"[string](https://www.w3schools.com/python/python_strings.asp)\" format. To do our math calculation, we need to convert the string into integer by a function called \"[int()](https://www.w3schools.com/python/ref_func_int.asp)\".\n",
    "```\n",
    "a = int(inputs[0])\n",
    "b = int(inputs[1])\n",
    "```"
   ]
  },
  {
   "cell_type": "code",
   "execution_count": 4,
   "id": "2b7a42c1",
   "metadata": {},
   "outputs": [
    {
     "name": "stdout",
     "output_type": "stream",
     "text": [
      "2000 5\n",
      "10000\n"
     ]
    }
   ],
   "source": [
    "a,b = [int(num) for num in input().split()]\n",
    "s = a*b\n",
    "print (s)"
   ]
  },
  {
   "cell_type": "markdown",
   "id": "7f0e7aa7",
   "metadata": {},
   "source": [
    "## 05 Calculate The Volume of A Cone using Function\n",
    "### Description\n",
    "Now, we need to write a function to calculate the volume of a cone given its base radius and height.\n",
    "\n",
    "The volume of a cone =(1/3) * π * r^2 * h, where, ‘r’ is the base radius of the cone and ‘h’ is the height of the cone.\n",
    "\n",
    "In summary, we need to write a function that returns the volume of the cone based on three input parameters (radius, height, andπ), where the pi has a default value of 3.141.\n",
    "### Input\n",
    "2 or 3 numbers are required. The first one is radius. The second one is height. The third one, if it exists, isπ.\n",
    "### Output\n",
    "Please just return the volume in function.\n",
    "\n",
    "**Sample Input 1** `4 6`\n",
    "\n",
    "**Sample Output 1** `100.512`\n",
    "\n",
    "**Sample Input 2** `0.1 1.6 3.14159`\n",
    "\n",
    "**Sample Output 2** `0.017`\n",
    "### Hint\n",
    "A \"[function](https://www.w3schools.com/python/python_functions.asp)\" is a set of statements that take inputs, do some specific computation, and produce output. The idea is to put some commonly or repeatedly done tasks together and make a function so that instead of writing the same code again and again for different inputs, we can call the function.\n",
    "\n",
    "Python allows function arguments to have default values. If the function is called without the argument, the argument gets its default value (\"[default-arguments-in-python](https://www.geeksforgeeks.org/default-arguments-in-python/)\"). An example of a function with default value arguments looks like this:\n",
    "```\n",
    "def student(firstname, lastname ='Mark', standard ='Fifth'):\n",
    "    print(firstname, lastname, 'studies in', standard, 'Standard')\n",
    "```"
   ]
  },
  {
   "cell_type": "code",
   "execution_count": 5,
   "id": "d0cd5fb4",
   "metadata": {},
   "outputs": [
    {
     "name": "stdout",
     "output_type": "stream",
     "text": [
      "0.1 1.6 3.14159\n",
      "0.017\n"
     ]
    }
   ],
   "source": [
    "def calculate_the_volume_of_a_cone(radius, height, pi=3.141):\n",
    "  # Write your code here to complete this function\n",
    "   result= radius**2 * height * pi * 1/3\n",
    "   return result\n",
    "\n",
    "# Do not modify the code below\n",
    "# Input\n",
    "args = [float(num) for num in input().split()]\n",
    "\n",
    "# Calling function\n",
    "volume = calculate_the_volume_of_a_cone(*args)\n",
    "\n",
    "# print the result\n",
    "result = \"{:.3f}\".format(volume)\n",
    "print(result)"
   ]
  },
  {
   "cell_type": "markdown",
   "id": "473425df",
   "metadata": {},
   "source": [
    "## 06 Days between two dates\n",
    "### Description\n",
    "Given two dates, your task is to calculate how many days in between.\n",
    "### Input\n",
    "6 integers in a line  separated  by a space represent the start date and end date\n",
    "\n",
    "DD MM YYYY DD MM YYYY\n",
    "### Output\n",
    "An integer represent the days\n",
    "\n",
    "**Sample Input 1** `01 02 2021 01 03 2021`\n",
    "\n",
    "**Sample Output 1** `28`\n",
    "\n",
    "**Sample Input 2** `01 02 2020 01 03 2020`\n",
    "\n",
    "**Sample Output 2** `29`\n",
    "\n",
    "**Sample Input 3** `03 10 2019 02 12 2048`\n",
    "\n",
    "**Sample Output 3** `10653`\n",
    "### Hint\n",
    "You need to handle the '[leap year](https://www.timeanddate.com/date/leapyear.html)' issue when computing days\n",
    "\n",
    "Leap year is defined as the followings:\n",
    "\n",
    "1. The year must be evenly divisible by 4;\n",
    "2. If the year can also be evenly divided by 100, it is not a leap year;\n",
    "unless the year is also evenly divisible by 400. Then it is a leap year.\n",
    "\n",
    "You can vastly lower the difficulty of this problem by calling a python package for Date Processing '[datetime](https://docs.python.org/3/library/datetime.html)' (https://docs.python.org/3/library/datetime.html)"
   ]
  },
  {
   "cell_type": "code",
   "execution_count": 6,
   "id": "d73b8914",
   "metadata": {},
   "outputs": [
    {
     "name": "stdout",
     "output_type": "stream",
     "text": [
      "03 10 2019 02 12 2048\n",
      "10653\n"
     ]
    }
   ],
   "source": [
    "import datetime\n",
    "st_day,st_month,st_year,ed_day,ed_month,ed_year = [int(x) for x in input().split()]\n",
    "\n",
    "st_date=datetime.datetime(st_year,st_month,st_day)\n",
    "ed_date=datetime.datetime(ed_year,ed_month,ed_day)\n",
    "\n",
    "days_in_between = (ed_date - st_date).days\n",
    "\n",
    "print(days_in_between)"
   ]
  }
 ],
 "metadata": {
  "kernelspec": {
   "display_name": "Python 3",
   "language": "python",
   "name": "python3"
  },
  "language_info": {
   "codemirror_mode": {
    "name": "ipython",
    "version": 3
   },
   "file_extension": ".py",
   "mimetype": "text/x-python",
   "name": "python",
   "nbconvert_exporter": "python",
   "pygments_lexer": "ipython3",
   "version": "3.8.8"
  }
 },
 "nbformat": 4,
 "nbformat_minor": 5
}
