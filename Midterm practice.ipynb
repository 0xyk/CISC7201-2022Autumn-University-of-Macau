{
 "cells": [
  {
   "cell_type": "markdown",
   "id": "6cc986c8",
   "metadata": {},
   "source": [
    "## 01 Diamond\n",
    "### Description\n",
    "**print a diamond with given size**\n",
    "### Input\n",
    "an odd integer 'size' represent the size\n",
    "\n",
    "0<size<=15\n",
    "\n",
    "input_template\n",
    "### Output\n",
    "a diamond composed by *\n",
    "\n",
    "**Sample Input 1** `5`\n",
    "\n",
    "**Sample Output 1**\n",
    "```\n",
    "  *\n",
    " ***\n",
    "*****\n",
    " ***\n",
    "  *\n",
    "```\n",
    "**Sample Input 2** `3` \n",
    "\n",
    "**Sample Output 2**\n",
    "```\n",
    " *\n",
    "***\n",
    " *\n",
    "```\n",
    "### Hint\n",
    "Think about the relation of amount of spaces and amount of ' * ' with iterator"
   ]
  },
  {
   "cell_type": "code",
   "execution_count": 1,
   "id": "dbb5ccae",
   "metadata": {},
   "outputs": [
    {
     "name": "stdout",
     "output_type": "stream",
     "text": [
      "5\n",
      "  *\n",
      " ***\n",
      "*****\n",
      " ***\n",
      "  *\n"
     ]
    }
   ],
   "source": [
    "size = int(input())\n",
    "\n",
    "#upper\n",
    "a=int((size+1)/2)\n",
    "#lower\n",
    "b=size-a\n",
    "\n",
    "for x in range(a):\n",
    "    print((size - x-a)*' '+ (2*x + 1)*'*')\n",
    "for x in range(b-1,-1,-1):\n",
    "    print((size - x-a)*' '+  (2*x + 1)*'*')"
   ]
  },
  {
   "cell_type": "markdown",
   "id": "b3e1523e",
   "metadata": {},
   "source": [
    "## 02 Specific summation\n",
    "### Description\n",
    "Given an interger n, try to find the sum of the sequence with following pattern:2-3 + 4-5 + 6 +...n\n",
    "\n",
    "For example, if you input 4, you will calculate 2-3+4, inout 5, you will calculate 2-3+4-5\n",
    "### Input\n",
    "An integer n\n",
    "\n",
    "n >= 2\n",
    "### Output\n",
    "an integer represent the answer\n",
    "\n",
    "**Sample Input 1** `4`\n",
    "\n",
    "**Sample Output 1** `3`\n",
    "\n",
    "**Sample Input 2** `6` \n",
    "\n",
    "**Sample Output 2** `4`\n",
    "\n",
    "**Sample Input 3** `5` \n",
    "\n",
    "**Sample Output 3** `-2`\n",
    "\n",
    "### Hint\n",
    "Using the while loop"
   ]
  },
  {
   "cell_type": "code",
   "execution_count": 2,
   "id": "90cc806c",
   "metadata": {},
   "outputs": [
    {
     "name": "stdout",
     "output_type": "stream",
     "text": [
      "4\n",
      "3\n"
     ]
    }
   ],
   "source": [
    "n = int(input())\n",
    "i=2\n",
    "sum=0\n",
    "while i<=n:\n",
    "    sum=sum+((-1)**i)*i\n",
    "    i=i+1\n",
    "print(sum)"
   ]
  },
  {
   "cell_type": "markdown",
   "id": "d6a827a6",
   "metadata": {},
   "source": [
    "## 03 Average of two class\n",
    "### Description\n",
    "Given two integers \"n\"and \"k\", your task is to classify all the integers from 1 to n into two classes, where the first class includes integers divisible by k (which means the number is a multiple of k) and the second class includes other integers.\n",
    "\n",
    "Your task is to find the average (mean) value of each class, where the output precision is set to one decimal place.\n",
    "### Input\n",
    "Two integers n and k\n",
    "k<=100\n",
    "n<=1000000\n",
    "### Output\n",
    "a float number with precision one decimal place\n",
    "\n",
    "**Sample Input 1** `100 16`\n",
    "\n",
    "**Sample Output 1** `56.0 50.1`\n",
    "\n",
    "**Sample Input 2** `10000 32` \n",
    "\n",
    "**Sample Output 2** `5008.0 5000.3`\n",
    "\n",
    "**Sample Input 3** `20 5` \n",
    "\n",
    "**Sample Output 3** `12.5 10.0`\n",
    "\n",
    "### Hint\n",
    "Using loop to simulate the problem is a waste of the computation time, the n can be up to1000000, try to find the math relation of the data"
   ]
  },
  {
   "cell_type": "code",
   "execution_count": 3,
   "id": "67c6faba",
   "metadata": {},
   "outputs": [
    {
     "name": "stdout",
     "output_type": "stream",
     "text": [
      "20 5\n",
      "12.5 10.0"
     ]
    }
   ],
   "source": [
    "n,k = [int(x) for x in input().split()]\n",
    "\n",
    "import math\n",
    "x=math.floor(n/k)\n",
    "\n",
    "total=(1+n)/2*n\n",
    "group2=(k+k*x)/2*x\n",
    "\n",
    "\n",
    "print(format((group2/x),'.1f'),end=\" \")\n",
    "print(format(((total-group2)/(n-x)),'.1f'),end=\"\")"
   ]
  },
  {
   "cell_type": "markdown",
   "id": "de95345f",
   "metadata": {},
   "source": [
    "## 04 Hello World!\n",
    "### Description\n",
    "A \"Hello, World!\" program generally is a computer program that outputs or displays the message \"Hello World!\".\n",
    "\n",
    "Such a program is very simple in most programming languages, and is often used to illustrate the basic syntax of a programming language.\n",
    "\n",
    "It is often the first program written by people learning to code.It can also be used as a sanity test to make sure that a computer language is correctly installed, and that the operator understands how to use it.\n",
    "\n",
    "**Please write a program to get the given input and print out the outputusing the format of the output samples:**\n",
    "### Input\n",
    "Given a string s\n",
    "### Output\n",
    "Print out the sentence using the format of the output samples.\n",
    "\n",
    "**Sample Input 1** `World`\n",
    "\n",
    "**Sample Output 1** `Hello World!`\n",
    "\n",
    "**Sample Input 2** `University of Macau` \n",
    "\n",
    "**Sample Output 2** `Hello University of Macau!`\n",
    "\n",
    "**Sample Input 3** `123` \n",
    "\n",
    "**Sample Output 3** `Hello 123!`\n",
    "### Hint\n",
    "\"[input](https://www.w3schools.com/python/ref_func_input.asp)\"\n",
    "\n",
    "\"[print](https://www.w3schools.com/python/ref_func_print.asp)\""
   ]
  },
  {
   "cell_type": "code",
   "execution_count": 4,
   "id": "729927b5",
   "metadata": {},
   "outputs": [
    {
     "name": "stdout",
     "output_type": "stream",
     "text": [
      "123\n",
      "Hello 123!\n"
     ]
    }
   ],
   "source": [
    "s = input()\n",
    "print( \"Hello\", s+\"!\")"
   ]
  },
  {
   "cell_type": "markdown",
   "id": "ad8dfca5",
   "metadata": {},
   "source": [
    "## 05 Cut the string\n",
    "### Description\n",
    "Given an input string with the combination of the lower and upper, return a new string made by the characters start by the second upper character and end by the character before the third upper character (The same upper characters don't appear twice).\n",
    "### Input\n",
    "Input a string with lowercase and uppercase characters.\n",
    "### Output\n",
    "Output a new string made by the characters start by the second upper character and end by the character before the third upper character.\n",
    "\n",
    "**Sample Input 1** `ANewString`\n",
    "\n",
    "**Sample Output 1** `New`\n",
    "\n",
    "**Sample Input 2** `VlaDiMir` \n",
    "\n",
    "**Sample Output 2** `Di`\n",
    "### Hint\n",
    "Like the former one, we need to separate the uppercase and lowercase characters and arrange the upper one, then find the index of the second and third upper character, finally output the string we need according to the index."
   ]
  },
  {
   "cell_type": "code",
   "execution_count": 5,
   "id": "e72ce037",
   "metadata": {},
   "outputs": [
    {
     "name": "stdout",
     "output_type": "stream",
     "text": [
      "ANewString\n",
      "New\n"
     ]
    }
   ],
   "source": [
    "str1=str(input())\n",
    "str2=list(str1)\n",
    "j=0\n",
    "upper=[]\n",
    "lower=[]\n",
    "for i in str2:\n",
    "    if i==i.upper():\n",
    "        upper.append(i)\n",
    "        j=j+1\n",
    "    else:\n",
    "        if j==2:\n",
    "            lower.append(i)\n",
    "print(upper[1]+''.join(lower))"
   ]
  },
  {
   "cell_type": "markdown",
   "id": "ce61d42f",
   "metadata": {},
   "source": [
    "## 06 Sum of 5 nums\n",
    "### Description\n",
    "Given 5 integer numbers, please print the sum of those numbers as the result\n",
    "### Input\n",
    "a list or numpy array \"nums\" containing 5 int number\n",
    "\n",
    "each number < 300\n",
    "### Output\n",
    "an integer\n",
    "\n",
    "**Sample Input 1** `1 2 3 4 5`\n",
    "\n",
    "**Sample Output 1** `15`\n",
    "\n",
    "**Sample Input 2** `2 8 10 13 54` \n",
    "\n",
    "**Sample Output 2** `87`\n",
    "### Hint\n",
    "Can use a simple \"[loop](https://www.w3schools.com/python/python_for_loops.asp)\" to sum each element or use \"[sum](https://numpy.org/doc/stable/reference/generated/numpy.sum.html)\" function from numpy(you need to \"[convert](https://www.w3schools.com/python/numpy/numpy_creating_arrays.asp)\" the python list to numpy array first)"
   ]
  },
  {
   "cell_type": "code",
   "execution_count": 6,
   "id": "8912146a",
   "metadata": {},
   "outputs": [
    {
     "name": "stdout",
     "output_type": "stream",
     "text": [
      "1 2 3 4 5\n",
      "15\n"
     ]
    }
   ],
   "source": [
    "#Input handling using numpy(preferred):\n",
    "\n",
    "import numpy as np\n",
    "nums = np.array(input().split(),int)\n",
    "s = np.sum(nums)\n",
    "print(s)"
   ]
  },
  {
   "cell_type": "markdown",
   "id": "adec8734",
   "metadata": {},
   "source": [
    "## 07 Function with Arbitrary Arguments\n",
    "### Description\n",
    "Given a list of number, find the minimum number, the maximum number, and the average of this list.\n",
    "\n",
    "You need to do this in a function with arbitrary arguments, e.g.`stat`.\n",
    "### Input\n",
    "A list of number with unknown length.\n",
    "### Output\n",
    "Return minimum, maximum and average  in the `stat` function in float .\n",
    "\n",
    "**Sample Input 1** `1 2 3 4 5`\n",
    "\n",
    "**Sample Output 1** `1.0 5.0 3.0`\n",
    "\n",
    "**Sample Input 2** `1 2 3` \n",
    "\n",
    "**Sample Output 2** `1.0 3.0 2.0`\n",
    "### Hint\n",
    "Sometimes, we do not know in advance the number of arguments that will be passed into a function. Python allows us to handle this kind of situation through function calls with an arbitrary number of arguments.\n",
    "\n",
    "In the function definition, we use an asterisk ( * ) before the parameter name to denote this kind of argument. Here is an example.\n",
    "```\n",
    "def greet(*names):\n",
    "    \"\"\"This function greets all\n",
    "    the person in the names tuple.\"\"\"\n",
    "\n",
    "    # names is a tuple with arguments\n",
    "    for name in names:\n",
    "        print(\"Hello\", name)\n",
    "\n",
    "\n",
    "greet(\"Monica\", \"Luke\", \"Steve\", \"John\")\n",
    "```\n",
    "The output is\n",
    "```\n",
    "Hello Monica\n",
    "Hello Luke\n",
    "Hello Steve\n",
    "Hello John\n",
    "```\n",
    "Here, we have called the function with multiple arguments. These arguments get wrapped up into a tuple before being passed into the function. Inside the function, we use aforloop to retrieve all the arguments back."
   ]
  },
  {
   "cell_type": "code",
   "execution_count": 7,
   "id": "78903800",
   "metadata": {},
   "outputs": [
    {
     "name": "stdout",
     "output_type": "stream",
     "text": [
      "1 2 3\n",
      "1.0 3.0 2.0\n"
     ]
    }
   ],
   "source": [
    "import statistics\n",
    "def stat(*number_list):\n",
    "    # find the minimum number, the maximum number, and the average of the `number_list`.\n",
    "    minimum = min(number_list)\n",
    "    maximum = max(number_list)\n",
    "    average = sum(number_list)/len(number_list)\n",
    "    return minimum, maximum, average\n",
    "  \n",
    "number_list = [float(val) for val in input().split(' ')]\n",
    "minimum, maximun, average = stat(*number_list)\n",
    "print(minimum, maximun, average)"
   ]
  },
  {
   "cell_type": "markdown",
   "id": "bae10b30",
   "metadata": {},
   "source": [
    "## 08 Remove all 'a'\n",
    "### Description\n",
    "Suppose there is a bug on the app that all the messages containing character 'a'  will be deleted. In order to communicate with others, you need to remove all character 'a' in your message (sentences).\n",
    "\n",
    "Only 'a' (lower case) is banned, 'A' (upper case) is OK.\n",
    "### Input\n",
    "The input is a string s\n",
    "### Output\n",
    "The output is the result of removing all 'a' from s\n",
    "\n",
    "**Sample Input 1** `aaasdaa`\n",
    "\n",
    "**Sample Output 1** `sd`\n",
    "\n",
    "**Sample Input 2** `an apple a day, keeps the doctor away` \n",
    "\n",
    "**Sample Output 2** `n pple  dy, keeps the doctor wy`\n",
    "### Hint\n",
    "You are free to use 'replace', but you are encouraged to try without it"
   ]
  },
  {
   "cell_type": "code",
   "execution_count": 8,
   "id": "6cf57c9e",
   "metadata": {},
   "outputs": [
    {
     "name": "stdout",
     "output_type": "stream",
     "text": [
      "an apple a day, keeps the doctor away\n",
      "n pple  dy, keeps the doctor wy\n"
     ]
    }
   ],
   "source": [
    "s = input()\n",
    "x = s.replace(\"a\",\"\")\n",
    "print(x)"
   ]
  },
  {
   "cell_type": "markdown",
   "id": "452918d0",
   "metadata": {},
   "source": [
    "## 09 Find an insert position\n",
    "### Description\n",
    "Given a target value and a sorted array of distinct integers, return the index if the target is found. If not, return the index in which it should be inserted.\n",
    "### Input\n",
    "You don't need to get the input from standard device (screen) with input().\n",
    "\n",
    "two parameter 'target' and 'nums' are passed to your function.\n",
    "\n",
    "target: an integer represent the target number;\n",
    "\n",
    "nums: a list ofdistinct integers;\n",
    "### Output\n",
    "The output is the index if the target is found. If not, the output is the index where it would be if it were inserted in order.\n",
    "\n",
    "**Sample Input 1** `5 1 3 5 6`\n",
    "\n",
    "**Sample Output 1** `2`\n",
    "\n",
    "**Sample Input 2** `2 1 3 5 6` \n",
    "\n",
    "**Sample Output 2** `1`\n",
    "\n",
    "**Sample Input 3** `7 1 3 5 6`\n",
    "\n",
    "**Sample Output 3** `4`"
   ]
  },
  {
   "cell_type": "code",
   "execution_count": 9,
   "id": "ee679cae",
   "metadata": {},
   "outputs": [
    {
     "name": "stdout",
     "output_type": "stream",
     "text": [
      "7 1 3 5 6\n",
      "4\n"
     ]
    }
   ],
   "source": [
    "target,nums = input().split(' ',1)\n",
    "nums = [x for x in nums.split()]\n",
    "def SearchInsertPosition(target,nums):\n",
    "    if target in nums:\n",
    "        print(nums.index(target))\n",
    "    else:\n",
    "        nums.append(target)\n",
    "        nums = [int(x) for x in nums]\n",
    "        nums.sort()\n",
    "        print(nums.index(int(target)))            \n",
    "SearchInsertPosition(target,nums)"
   ]
  },
  {
   "cell_type": "markdown",
   "id": "6fe96a86",
   "metadata": {},
   "source": [
    "## 10 1 in binary\n",
    "### Description\n",
    "The input is an integer (>0), output the number of ones in its binary representation\n",
    "\n",
    "For example,\n",
    "\n",
    "32(decimal) → 100000(binary), there is one '1' in its binary representation\n",
    "\n",
    "13(decimal)→1101(binary), there are three '1's in its binary representation\n",
    "\n",
    "Reference:\n",
    "\n",
    "[https://ryanstutorials.net/binary-tutorial/binary-conversions.php](https://ryanstutorials.net/binary-tutorial/binary-conversions.php)\n",
    "### Input\n",
    "The input is an integer N(>0)\n",
    "### Output\n",
    "The output is the number of ones in binary representation of N\n",
    "\n",
    "**Sample Input 1** `32`\n",
    "\n",
    "**Sample Output 1** `1`\n",
    "\n",
    "**Sample Input 2** `13` \n",
    "\n",
    "**Sample Output 2** `3`\n",
    "### Hint\n",
    "N & N-1 removes one '1' from the binary representation of N\n",
    "\n",
    "For example,\n",
    "\n",
    "N=13 → 1101\n",
    "\n",
    "1101 & 1100 = 1100\n",
    "\n",
    "1100 & 1010 = 1000\n",
    "\n",
    "1000 & 0111 = 0000\n",
    "\n",
    "1101 → 1100 → 1000 → 0000\n",
    "\n",
    "Try to use while loop to solve this problem following this idea"
   ]
  },
  {
   "cell_type": "code",
   "execution_count": 10,
   "id": "bb4ed009",
   "metadata": {},
   "outputs": [
    {
     "name": "stdout",
     "output_type": "stream",
     "text": [
      "13\n",
      "3\n"
     ]
    }
   ],
   "source": [
    "def NumberOf1(n):\n",
    "    # write code here\n",
    "    count = 0\n",
    "    if n < 0:\n",
    "        n = n & 0xffffffff\n",
    "    while n:\n",
    "        count += 1\n",
    "        n = n & (n-1)\n",
    "    print(count)\n",
    "NumberOf1(n=int(input()))"
   ]
  }
 ],
 "metadata": {
  "kernelspec": {
   "display_name": "Python 3",
   "language": "python",
   "name": "python3"
  },
  "language_info": {
   "codemirror_mode": {
    "name": "ipython",
    "version": 3
   },
   "file_extension": ".py",
   "mimetype": "text/x-python",
   "name": "python",
   "nbconvert_exporter": "python",
   "pygments_lexer": "ipython3",
   "version": "3.8.8"
  }
 },
 "nbformat": 4,
 "nbformat_minor": 5
}
