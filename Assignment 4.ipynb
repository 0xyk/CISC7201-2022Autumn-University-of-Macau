{
 "cells": [
  {
   "cell_type": "markdown",
   "id": "03b66a4e",
   "metadata": {},
   "source": [
    "## 01 Use of Lambda function in python\n",
    "### Description\n",
    "Implement a lambda function to determine whether the '**larger**' integer of these two positive integer inputs is divisible by the '**smaller**' integer.\n",
    "\n",
    "sample:\n",
    "\n",
    "10 4 : larger number =10, smaller number =4, 10 is not divisible by 4, so it is False\n",
    "\n",
    "7 35 : larger number =35, smaller number =7, 35 is divisible by 7, so it is True\n",
    "\n",
    "You must complete the required lambda expression, any other way (define a function) is not allowed.\n",
    "### Input\n",
    "Two positive integers.\n",
    "### Output\n",
    "Return True if one of the two integer inputs is divisible by the other integer else False.\n",
    "\n",
    "The only thing you need to do is to complete the lambda expression.\n",
    "\n",
    "**Sample Input 1** `4 2`\n",
    "\n",
    "**Sample Output 1** `Ture`\n",
    "\n",
    "**Sample Input 2** `3 9`\n",
    "\n",
    "**Sample Output 2** `Ture`\n",
    "\n",
    "**Sample Input 3** `3 2`\n",
    "\n",
    "**Sample Output 3** `False`\n",
    "### Hint\n",
    "[Tutorial of Lambda Function](https://www.programiz.com/python-programming/anonymous-function)"
   ]
  },
  {
   "cell_type": "code",
   "execution_count": 1,
   "id": "9afc713f",
   "metadata": {},
   "outputs": [
    {
     "name": "stdout",
     "output_type": "stream",
     "text": [
      "3 9\n",
      "True\n"
     ]
    }
   ],
   "source": [
    "divisible = lambda a, b: max(a,b)%min(a,b)==0 # Complete the expression here #\n",
    "\n",
    "\n",
    "\"\"\"\n",
    "you can run the following script to verify your function\n",
    "a, b = [int(val) for val in input().split(' ')]\n",
    "print(divisible(a , b))\n",
    "\"\"\""
   ]
  },
  {
   "cell_type": "markdown",
   "id": "e4fdb9e1",
   "metadata": {},
   "source": [
    "## 02 Softmax\n",
    "### Description\n",
    "The Softmax function is widely used in the deep learning as an activation function in the output layer of neural network models.\n",
    "\n",
    "![A4_02.png](\\Images\\A4_02.png)\n",
    "\n",
    "Your task is to writethe codes to calculate the corresponding Softmax values for a given set of float values.\n",
    "\n",
    "Combine '**reduce**','**map**' and '**exp**'to solve this problem\n",
    "\n",
    "The output precision is set to two decimal place.\n",
    "### Input\n",
    "The input  is a list of floats\n",
    "### Output\n",
    "The output is the softmax result of the input, also a list of floats.The output precision is set to two decimal place.\n",
    "\n",
    "**Sample Input 1** `1.58 2.41 0.03 0.56 2.66`\n",
    "\n",
    "**Sample Output 1** `0.15 0.34 0.03 0.05 0.43`"
   ]
  },
  {
   "cell_type": "code",
   "execution_count": 2,
   "id": "0c8666b7",
   "metadata": {},
   "outputs": [
    {
     "name": "stdout",
     "output_type": "stream",
     "text": [
      "1.58 2.41 0.03 0.56 2.66\n",
      "0.15 0.34 0.03 0.05 0.43 "
     ]
    }
   ],
   "source": [
    "from functools import reduce\n",
    "from math import exp\n",
    "nums = [float(x) for x in input().split()]\n",
    "\n",
    "math = [exp(x) for x in nums]\n",
    "sums = reduce(lambda i,j :i+j, math)\n",
    "softlist =(list(map(lambda x:\"{:.2f}\".format(x/sums),math)))\n",
    "softlist1 = [float(x) for x in softlist]\n",
    "for i in softlist1:\n",
    "    print(\"%.2f\"%i,end=\" \")"
   ]
  },
  {
   "cell_type": "markdown",
   "id": "175f1e6e",
   "metadata": {},
   "source": [
    "## 03 A recursive function\n",
    "### Description\n",
    "In this problem, you need to implement the following recursive function：\n",
    "\n",
    "![A4_03.png](\\Images\\A4_03.png)\n",
    "\n",
    "where, x_1=1.\n",
    "\n",
    "Your answer is required to keep two decimal places.\n",
    "### Input\n",
    "The input is an integer.\n",
    "### Output\n",
    "The output is got from the return of the function.\n",
    "\n",
    "Keep two decimal places.\n",
    "\n",
    "**Sample Input 1** `1`\n",
    "\n",
    "**Sample Output 1** `1.00`\n",
    "\n",
    "**Sample Input 2** `5`\n",
    "\n",
    "**Sample Output 2** `0.54`\n",
    "\n",
    "**Sample Input 3** `100`\n",
    "\n",
    "**Sample Output 3** `0.10`\n",
    "### Hint\n",
    "You can only get 50% marks if your recursive function is not efficient enough."
   ]
  },
  {
   "cell_type": "code",
   "execution_count": 3,
   "id": "1589a6c4",
   "metadata": {},
   "outputs": [
    {
     "name": "stdout",
     "output_type": "stream",
     "text": [
      "5\n",
      "0.54\n"
     ]
    }
   ],
   "source": [
    "def f(n):\n",
    "    \n",
    "  #write your code here\n",
    "    if n==1:\n",
    "        return 1\n",
    "    else:\n",
    "        sums = 1\n",
    "        for i in range(2,n+1):\n",
    "            sums =1/(i-1)*(sums+1/sums)\n",
    "            \n",
    "            \n",
    "        return sums\n",
    "\n",
    "n = int(input())\n",
    "print(\"%.2f\"%f(n))"
   ]
  },
  {
   "cell_type": "markdown",
   "id": "ddbbe27b",
   "metadata": {},
   "source": [
    "## 04 Longest Common Prefix\n",
    "### Description\n",
    "Write a function to find the longest common prefix string amongst several strings.\n",
    "\n",
    "If there is no common prefix, return an empty string \"\".\n",
    "### Input\n",
    "The input is an array of strings(arbitrary length).\n",
    "### Output\n",
    "The output is the longest common prefix of the strings.\n",
    "\n",
    "**Sample Input 1** `flower flow flight`\n",
    "\n",
    "**Sample Output 1** `fl`\n",
    "\n",
    "**Sample Input 2** `dog racecar car`\n",
    "\n",
    "**Sample Output 2** ` `\n",
    "\n",
    "**Sample Input 3** `apple app`\n",
    "\n",
    "**Sample Output 3** `app`"
   ]
  },
  {
   "cell_type": "code",
   "execution_count": 4,
   "id": "9222dc90",
   "metadata": {},
   "outputs": [
    {
     "name": "stdout",
     "output_type": "stream",
     "text": [
      "dog racecar car\n",
      "\n"
     ]
    }
   ],
   "source": [
    "def longestCommonPrefix(strs):\n",
    "  #write your code here\n",
    "    word1 = sorted(strs, key=len)[0]\n",
    "    pre = \"\"\n",
    "    for x in range(len(word1)):\n",
    "        \n",
    "        for i in range(len(strs)):\n",
    "            if  word1[x] ==strs[i][x]  and i == len(strs)-1 and len(pre) ==x:\n",
    "                    pre +=word1[x]\n",
    "            if word1[x] != strs[i][x]:\n",
    "                break\n",
    "\n",
    "    return pre\n",
    "\n",
    "\n",
    "strs = [str(x) for x in input().split()]\n",
    "print(longestCommonPrefix(strs))"
   ]
  },
  {
   "cell_type": "markdown",
   "id": "7e686f18",
   "metadata": {},
   "source": [
    "## 05 The square of each number\n",
    "### Description\n",
    "Input any number of integers (separated by commas), then use the map function the lamda function to calculate the square of each number and output them as a list.\n",
    "\n",
    "For example:\n",
    "\n",
    "input: 2,3,5,6,7\n",
    "\n",
    "output: 4,9,25,36,49\n",
    "### Input\n",
    "any number of integers (separated by commas)\n",
    "### Output\n",
    "the square of each number\n",
    "\n",
    "**Sample Input 1** `2,3,5,6,7`\n",
    "\n",
    "**Sample Output 1** `[4,9,25,36,49]`"
   ]
  },
  {
   "cell_type": "code",
   "execution_count": 5,
   "id": "440bf0f1",
   "metadata": {},
   "outputs": [
    {
     "name": "stdout",
     "output_type": "stream",
     "text": [
      "2,3,5,6,7\n",
      "[4, 9, 25, 36, 49]\n"
     ]
    }
   ],
   "source": [
    "#use map\n",
    "nums = [int(x) for x in input().split(',')]\n",
    "square = list(map(lambda x:x*x, nums))\n",
    "print(square)"
   ]
  },
  {
   "cell_type": "markdown",
   "id": "07e6d428",
   "metadata": {},
   "source": [
    "## 06 Accumulative multiplication\n",
    "### Description\n",
    "Input multiple integers (separated by commas) and use the reduce function to calculate the result of their cumulative multiplication, For example:\n",
    "\n",
    "input: 1，2，4，5\n",
    "\n",
    "output: 40\n",
    "### Input\n",
    "multiple integers (separated by commas)\n",
    "### Output\n",
    "an integer\n",
    "\n",
    "**Sample Input 1** `1,2,4,5`\n",
    "\n",
    "**Sample Output 1** `40`\n",
    "\n",
    "**Sample Input 2** `2,4,5,6,2`\n",
    "\n",
    "**Sample Output 2** `480`"
   ]
  },
  {
   "cell_type": "code",
   "execution_count": 6,
   "id": "3e5c34c0",
   "metadata": {},
   "outputs": [
    {
     "name": "stdout",
     "output_type": "stream",
     "text": [
      "2,4,5,6,2\n",
      "480\n"
     ]
    }
   ],
   "source": [
    "from functools import reduce \n",
    "ints = [int(x) for x in input().split(\",\") ]\n",
    "result = reduce(lambda x,y:x*y, ints)\n",
    "print(int(result))"
   ]
  },
  {
   "cell_type": "markdown",
   "id": "1bca9e29",
   "metadata": {},
   "source": [
    "## 07 Change lowercase characters into uppercase characters\n",
    "### Description\n",
    "Input any number of characters (separated by commas), then use the '**map**' function to change the lowercase English characters into uppercase English characters and output them as a list\n",
    "\n",
    "For example:\n",
    "\n",
    "input: x,y,t,y,g,1,3,y\n",
    "\n",
    "output: [X,Y,T,Y,G,1,3,Y]\n",
    "### Input\n",
    "Any amount of characters\n",
    "### Output\n",
    "A list\n",
    "\n",
    "**Sample Input 1** `x,y,t,y,g,1,3,y`\n",
    "\n",
    "**Sample Output 1** `[X,Y,T,Y,G,1,3,Y]`\n",
    "\n",
    "**Sample Input 2** `Y,u,c,x,1,t`\n",
    "\n",
    "**Sample Output 2** `['Y', 'U', 'C', 'X', '1', 'T']`\n",
    "### Hint\n",
    "Use upper function can change the lowercase character into uppercase characters.\n",
    "```\n",
    "y.upper() -> Y\n",
    "```\n",
    "**Do not use for loop in this problem, please solve it with map.**"
   ]
  },
  {
   "cell_type": "code",
   "execution_count": 7,
   "id": "80573cfc",
   "metadata": {},
   "outputs": [
    {
     "name": "stdout",
     "output_type": "stream",
     "text": [
      "Y,u,c,x,1,t\n",
      "['Y', 'U', 'C', 'X', '1', 'T']\n"
     ]
    }
   ],
   "source": [
    "chars = input().split(',')\n",
    "new = list(map(lambda y: y.upper(),chars))\n",
    "print(new)"
   ]
  },
  {
   "cell_type": "markdown",
   "id": "7429c2c7",
   "metadata": {},
   "source": [
    "## 08 Sort the chars\n",
    "### Description\n",
    "Use lambda function and sorted function to sort the five strings in the following list according to string length or alphabetical order.\n",
    "\n",
    "If you input 0, the strings are sorted by length. If you enter 1, it will be sorted according to the alphabetical order.\n",
    "\n",
    "The list of strings is shown as follows:\n",
    "\n",
    "chars = ['yuio1234','abcd','zzbbrt','rt','12tyrrtrttrtryryrtbfgah'];\n",
    "### Input\n",
    "Input integer 0 or 1.\n",
    "### Output\n",
    "Sorted list of strings\n",
    "\n",
    "**Sample Input 1** `0`\n",
    "\n",
    "**Sample Output 1** `['rt','abcd','zzbbrt','yuio1234','12tyrrtrttrtryryrtbfgah']`\n",
    "\n",
    "**Sample Input 2** `1`\n",
    "\n",
    "**Sample Output 2** `['12tyrrtrttrtryryrtbfgah', 'abcd', 'rt', 'yuio1234', 'zzbbrt']`\n",
    "### Hint\n",
    "Combine sorted function and lambda function."
   ]
  },
  {
   "cell_type": "code",
   "execution_count": 8,
   "id": "e2b1b15f",
   "metadata": {},
   "outputs": [
    {
     "name": "stdout",
     "output_type": "stream",
     "text": [
      "0\n",
      "['rt', 'abcd', 'zzbbrt', 'yuio1234', '12tyrrtrttrtryryrtbfgah']\n"
     ]
    }
   ],
   "source": [
    "chars = ['yuio1234', 'abcd', 'zzbbrt', 'rt', '12tyrrtrttrtryryrtbfgah']\n",
    "flag = int(input())\n",
    "if flag == 0:\n",
    "    print(sorted(chars, key=lambda x: len(x), reverse = False))\n",
    "else:\n",
    "    print(sorted(chars, key=lambda x: x[0]))"
   ]
  },
  {
   "cell_type": "markdown",
   "id": "0b098ed3",
   "metadata": {},
   "source": [
    "## 09 Roman to Integer\n",
    "### Description\n",
    "Roman numerals are represented by seven different symbols: I, V, X, L, C, D and M.\n",
    "\n",
    "Symbol---Value\n",
    "* I---1\n",
    "* V---5\n",
    "* X---10\n",
    "* L---50\n",
    "* C---100\n",
    "* D---500\n",
    "* M---1000\n",
    "\n",
    "Example:\n",
    "* 2 is written as II in Roman numeral, just two one's added together;\n",
    "* 12 is written as XII, which is simply X + II;\n",
    "* 27 is written as XXVII, which is XX + V + II.\n",
    "\n",
    "[Special handling]\n",
    "\n",
    "Roman numerals are usually written largest to smallest digits from left to right. However, we have two special handling for number 4 and number 9.\n",
    "* The numeral of 4 is not IIII. Instead, the number four is written as IV.\n",
    "* The same principle applies to the numeral of 9, which is written as IX.\n",
    "\n",
    "Example:\n",
    "* I can placed before V (5) and X (10) to make 4 and 9.\n",
    "* X can be placed before L (50) and C (100) to make 40 and 90.\n",
    "* C can be placed before D (500) and M (1000) to make 400 and 900.\n",
    "\n",
    "Your task is to convert a roman numeral into an integer.\n",
    "### Input\n",
    "The input is a string which represent the roman numeral.\n",
    "### Output\n",
    "The output is the integer converted from the roman numeral.\n",
    "\n",
    "**Sample Input 1** `III`\n",
    "\n",
    "**Sample Output 1** `3`\n",
    "\n",
    "**Sample Input 2** `IV`\n",
    "\n",
    "**Sample Output 2** `4`\n",
    "\n",
    "**Sample Input 3** `IX`\n",
    "\n",
    "**Sample Output 3** `9`\n",
    "\n",
    "**Sample Input 4** `LVIII`\n",
    "\n",
    "**Sample Output 4** `58`\n",
    "### Hint\n",
    "You can use dictionary to build a relation between symbols and values."
   ]
  },
  {
   "cell_type": "code",
   "execution_count": 9,
   "id": "20c99a8b",
   "metadata": {},
   "outputs": [
    {
     "name": "stdout",
     "output_type": "stream",
     "text": [
      "LVIII\n",
      "58\n"
     ]
    }
   ],
   "source": [
    "s=input()\n",
    "dics= {\"I\":1,\"V\":5,\"X\":10,\"L\":50,\"C\":100,\"D\":500,\"I\":1,\"M\":1000,\"IV\":4,\"IX\":9, \"XL\":40,\"XC\":90,\"CD\":400,\"CM\":900}\n",
    "i=0\n",
    "sums = 0\n",
    "nums = 0\n",
    "\n",
    "while i < len(s) :\n",
    "    if i < len(s)-1:\n",
    "        nums = s[i]+s[i+1]\n",
    "    if nums in dics:\n",
    "        i +=2\n",
    "        sums+=dics[nums]\n",
    "    else:\n",
    "        sums+=dics[s[i]]\n",
    "        i+=1\n",
    "print(sums)"
   ]
  }
 ],
 "metadata": {
  "kernelspec": {
   "display_name": "Python 3",
   "language": "python",
   "name": "python3"
  },
  "language_info": {
   "codemirror_mode": {
    "name": "ipython",
    "version": 3
   },
   "file_extension": ".py",
   "mimetype": "text/x-python",
   "name": "python",
   "nbconvert_exporter": "python",
   "pygments_lexer": "ipython3",
   "version": "3.8.8"
  }
 },
 "nbformat": 4,
 "nbformat_minor": 5
}
