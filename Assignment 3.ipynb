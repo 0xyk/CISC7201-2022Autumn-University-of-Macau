{
 "cells": [
  {
   "cell_type": "markdown",
   "id": "71a6d89e",
   "metadata": {},
   "source": [
    "## 01 Unique string\n",
    "### Description\n",
    "Given a string, you should implement an algorithm to determine if a string has all unique characters. (Case sensitive)\n",
    "### Input\n",
    "Input a string\n",
    "### Output\n",
    "True or False\n",
    "\n",
    "**Sample Input 1** `macau`\n",
    "\n",
    "**Sample Output 1** `False`\n",
    "\n",
    "**Sample Input 2** `abc`\n",
    "\n",
    "**Sample Output 2** `True`\n",
    "\n",
    "**Sample Input 3** `FSs`\n",
    "\n",
    "**Sample Output 3** `True`"
   ]
  },
  {
   "cell_type": "code",
   "execution_count": 1,
   "id": "2e19d2d2",
   "metadata": {},
   "outputs": [
    {
     "name": "stdout",
     "output_type": "stream",
     "text": [
      "FSs\n",
      "True\n"
     ]
    }
   ],
   "source": [
    "string = input()\n",
    "print(len(string) == len(set(string)))"
   ]
  },
  {
   "cell_type": "markdown",
   "id": "4cd06301",
   "metadata": {},
   "source": [
    "## 02 Add digits\n",
    "### Description\n",
    "Given an integer number, repeatedly sum the digits of number until the sum has only one digit.\n",
    "\n",
    "Explanation: The process is\n",
    "\n",
    "1. 58 --> 5 + 8 --> 13\n",
    "2. 13 --> 1 + 3 --> 4\n",
    "\n",
    "Since 4 has only one digit, the result is 4.\n",
    "### Input\n",
    "Input an integer\n",
    "### Output\n",
    "Output the result\n",
    "\n",
    "**Sample Input 1** `38`\n",
    "\n",
    "**Sample Output 1** `2`\n",
    "\n",
    "**Sample Input 2** `58`\n",
    "\n",
    "**Sample Output 2** `4`"
   ]
  },
  {
   "cell_type": "code",
   "execution_count": 2,
   "id": "3d826cf4",
   "metadata": {},
   "outputs": [
    {
     "name": "stdout",
     "output_type": "stream",
     "text": [
      "58\n",
      "4\n"
     ]
    }
   ],
   "source": [
    "num = int(input())\n",
    "\n",
    "while len(str(num))>=2:\n",
    "    sum=0\n",
    "    for i in str(num):       \n",
    "        sum=int(i)+sum\n",
    "    num=sum\n",
    "\n",
    "print(num)"
   ]
  },
  {
   "cell_type": "markdown",
   "id": "d0b55c1f",
   "metadata": {},
   "source": [
    "## 03 Famous Joe\n",
    "### Description\n",
    "Joe has a dream to become popular in the world. Thereby, he wants to know the number of times his name is mentioned in the newspaper (e.g., sentences).\n",
    "\n",
    "We only have lower-case characters in all sentences. Your task is to count the number of appearances of 'joe' in sentences.\n",
    "### Input\n",
    "Given an input string s\n",
    "### Output\n",
    "The output is the number of times 'joe' appear in the sentence\n",
    "\n",
    "**Sample Input 1** `joe thinks joe is a good boy`\n",
    "\n",
    "**Sample Output 1** `2`\n",
    "### Hint\n",
    "You can use for loop or string count() to solve this problem."
   ]
  },
  {
   "cell_type": "code",
   "execution_count": 3,
   "id": "47b2a6c6",
   "metadata": {},
   "outputs": [
    {
     "name": "stdout",
     "output_type": "stream",
     "text": [
      "joe thinks joe is a good boy\n",
      "2\n"
     ]
    }
   ],
   "source": [
    "s = input()\n",
    "print(s.count(\"joe\"))"
   ]
  },
  {
   "cell_type": "markdown",
   "id": "9d538d25",
   "metadata": {},
   "source": [
    "## 04 Reverse query\n",
    "### Description\n",
    "'**student_record**' is a dictionary of students GPA record , the keys are students' names and the values are their corresponding GPA,\n",
    "\n",
    "Now, given a required GPA, you are asked to find all the corresponding students' names whose GPA is equal to it.\n",
    "\n",
    "Your task is to implement the function '**get_students**':\n",
    "\n",
    "two parameter '**GPA**' and '**student_record**'are passed to your function,\n",
    "\n",
    "you need to return a list '**students**'containing all the student's name whose GPA is equal to the given one.\n",
    "### Input\n",
    "You don't need to get the input from standard device(screen) with input().\n",
    "\n",
    "two parameter '**GPA**' and '**student_record**' are passed to your function.\n",
    "\n",
    "GPA : a string represent the GPA we want to know.\n",
    "\n",
    "student_record : adictionary of students GPA record , the keys are students' names and the values are their corresponding GPA,\n",
    "### Output\n",
    "return a list of strings '**students**' containing all the students name with required GPA\n",
    "\n",
    "We will verify the result by calling your function and check the return lis, any output(print) is forbidden.\n",
    "\n",
    "Your only task is to implement the function and return the requied list\n",
    "\n",
    "**Sample Input 1** `B- {'Daxton': 'B-', 'Kitty': 'D', 'Angelia': 'C', 'Kimberley': 'D+', 'Bea': 'F', 'Quincy': 'A-', 'Presley': 'A-', 'Preston': 'D+', 'Lyndsey': 'D+', 'Katrina': 'B-', 'Zelida': 'F', 'Douglas': 'A-', 'Lesley': 'B-', 'Primrose': 'C+', 'Brynn': 'A-', 'Monty': 'F', 'Palmer': 'B', 'Darcie': 'D', 'Anthea': 'C-', 'Uriah': 'A'}`\n",
    "\n",
    "**Sample Output 1** `['Daxton', 'Katrina', 'Lesley']`\n",
    "\n",
    "**Sample Input 2** `F {'Mazie': 'A-', 'Xanthe': 'C', 'Dayton': 'B-', 'Lauryn': 'A-', 'Emery': 'B+', 'Richie': 'A', 'Habiba': 'A', 'Lauren': 'B-', 'Margarita': 'F', 'Franklyn': 'C', 'Adelene': 'C-', 'Jolene': 'B', 'Norma': 'D+', 'Meredith': 'B-', 'Addison': 'A-', 'Sasha': 'B+', 'Hillary': 'D+', 'Caroline': 'F', 'Jonathan': 'F', 'Rosemarie': 'A-'}`\n",
    "\n",
    "**Sample Output 2** `['Caroline', 'Jonathan', 'Margarita']`\n",
    "\n",
    "**Sample Input 3** `A- {'Kari': 'D', 'Lyra': 'B+', 'Aubrey': 'D+', 'Darryl': 'B+', 'Celestine': 'A-', 'Brandi': 'B', 'Wanda': 'C-', 'Pauline': 'D', 'Jacoby': 'F', 'Cecil': 'B+', 'Felicity': 'D', 'Zane': 'A', 'Fabrizia': 'D+', 'Deandra': 'C', 'Zeke': 'C-', 'Kenna': 'C', 'Sherrie': 'B', 'Katherine': 'B-', 'Ulrica': 'A-', 'Lacey': 'B'}`\n",
    "\n",
    "**Sample Output 3** `['Celestine', 'Ulrica']`\n",
    "### Hint\n",
    "You don't need to worry about the order of the names."
   ]
  },
  {
   "cell_type": "code",
   "execution_count": 4,
   "id": "2d54bfdd",
   "metadata": {},
   "outputs": [
    {
     "name": "stdout",
     "output_type": "stream",
     "text": [
      "B- {'Daxton': 'B-', 'Kitty': 'D', 'Angelia': 'C', 'Kimberley': 'D+', 'Bea': 'F', 'Quincy': 'A-', 'Presley': 'A-', 'Preston': 'D+', 'Lyndsey': 'D+', 'Katrina': 'B-', 'Zelida': 'F', 'Douglas': 'A-', 'Lesley': 'B-', 'Primrose': 'C+', 'Brynn': 'A-', 'Monty': 'F', 'Palmer': 'B', 'Darcie': 'D', 'Anthea': 'C-', 'Uriah': 'A'}\n",
      "['Daxton', 'Katrina', 'Lesley']\n"
     ]
    }
   ],
   "source": [
    "def get_students(GPA,student_record):\n",
    "    value_list=list(student_record.values())\n",
    "    key_list=list(student_record.keys())\n",
    "    names = []\n",
    "    for i in range(0,len(key_list)):\n",
    "        if value_list[i]==GPA:\n",
    "            names.append(key_list[i])\n",
    "    return names\n",
    "\n",
    "\n",
    "#Do not modify the code below\n",
    "_input = input()\n",
    "GPA,student_record = _input.split(' ',1)\n",
    "student_record=eval(student_record)\n",
    "names = get_students(GPA,student_record)\n",
    "names.sort()\n",
    "print(str(names))"
   ]
  },
  {
   "cell_type": "markdown",
   "id": "b21256ca",
   "metadata": {},
   "source": [
    "## 05 Arrange the string\n",
    "### Description\n",
    "Given a string with the lower and upper case, return a new string which upper cases come first.\n",
    "### Input\n",
    "Input a string with lowercase and uppercase characters.\n",
    "### Output\n",
    "Output a string that upper case come first.\n",
    "\n",
    "**Sample Input 1** `ANewString`\n",
    "\n",
    "**Sample Output 1** `ANSewtring`\n",
    "\n",
    "**Sample Input 2** `VlaDiMir`\n",
    "\n",
    "**Sample Output 2** `VDMlaiir`\n",
    "### Hint\n",
    "We need to separate the uppercase and lowercase characters, then arrange them."
   ]
  },
  {
   "cell_type": "code",
   "execution_count": 5,
   "id": "3af14302",
   "metadata": {},
   "outputs": [
    {
     "name": "stdout",
     "output_type": "stream",
     "text": [
      "VlaDiMir\n",
      "VDMlaiir\n"
     ]
    }
   ],
   "source": [
    "str1 = str(input())\n",
    "lower=[]\n",
    "upper=[]\n",
    "for i in str1:\n",
    "    if 'a'<=i<='z':\n",
    "        lower.append(i)\n",
    "    elif 'A'<=i<='Z':\n",
    "        upper.append(i)\n",
    "    up_result=\"\".join(upper)\n",
    "    low_result=\"\".join(lower)\n",
    "    \n",
    "print(up_result+low_result)"
   ]
  },
  {
   "cell_type": "markdown",
   "id": "9a0bccb3",
   "metadata": {},
   "source": [
    "## 06 Find all prime numbers in a range\n",
    "### Description\n",
    "In this assignment, we will give you a range from a to b, you need to find all the prime numbers in this range and list them. In this exercise we suggest you 'to write a function' to judge whether a number is a prime number or not. Then print 'a list' of all the prime numbers in the range [a,b).\n",
    "### Input\n",
    "two integer a,b are given\n",
    "### Output\n",
    "Output ‘a list’of the prime numbers in the range.\n",
    "\n",
    "**Sample Input 1** `4 10`\n",
    "\n",
    "**Sample Output 1** `5 7`\n",
    "\n",
    "**Sample Input 2** `2 40`\n",
    "\n",
    "**Sample Output 2** `2 3 5 7 11 13 17 19 23 29 31 37`\n",
    "### Hint\n",
    "Hint: write a function to judge whether the number is prime or not."
   ]
  },
  {
   "cell_type": "code",
   "execution_count": 6,
   "id": "310f1e56",
   "metadata": {},
   "outputs": [
    {
     "name": "stdout",
     "output_type": "stream",
     "text": [
      "2 40\n",
      "2 3 5 7 11 13 17 19 23 29 31 37\n"
     ]
    }
   ],
   "source": [
    "from math import sqrt\n",
    "a,b = [int(num) for num in input().split()] \n",
    " \n",
    "list1=[]\n",
    "def is_prime(n):\n",
    "    for i in range(2,n):\n",
    "        if n%i==0:\n",
    "            return False\n",
    "    return True\n",
    "\n",
    "for n in range (a,b):\n",
    "    if is_prime(n)==True:\n",
    "        list1.append(n)\n",
    "\n",
    "print(*list1)"
   ]
  },
  {
   "cell_type": "markdown",
   "id": "deb0078e",
   "metadata": {},
   "source": [
    "## 07 Find all prime numbers in a range\n",
    "### Description\n",
    "Given an input string with the combination of the lower and upper, return a new string made by the characters start by the second upper character and end by the character before the third upper character (The same upper characters don't appear twice).\n",
    "### Input\n",
    "Input a string with lowercase and uppercase characters.\n",
    "### Output\n",
    "Output a new string made by the characters start by the second upper character and end by the character before the third upper character.\n",
    "\n",
    "**Sample Input 1** `ANewString`\n",
    "\n",
    "**Sample Output 1** `New`\n",
    "\n",
    "**Sample Input 2** `VlaDiMir`\n",
    "\n",
    "**Sample Output 2** `Di`\n",
    "### Hint\n",
    "Like the former one, we need to separate the uppercase and lowercase characters and arrange the upper one, then find the index of the second and third upper character, finally output the string we need according to the index."
   ]
  },
  {
   "cell_type": "code",
   "execution_count": 7,
   "id": "9ee454b1",
   "metadata": {},
   "outputs": [
    {
     "name": "stdout",
     "output_type": "stream",
     "text": [
      "VlaDiMir\n",
      "Di\n"
     ]
    }
   ],
   "source": [
    "str1=str(input())\n",
    "lower=[]\n",
    "upper=[]\n",
    "result=[]\n",
    "\n",
    "\n",
    "for i in range(0,len(str1)):\n",
    "    \n",
    "    if 'A'<=str1[i]<='Z':\n",
    "        upper.append(str1[i])\n",
    "        \n",
    "    if len(upper)==2:\n",
    "        result.append(str1[i])\n",
    "\n",
    "                      \n",
    "    elif len(upper)==3:\n",
    "        break\n",
    "            \n",
    "answer=\"\".join(result)\n",
    "\n",
    "print(answer)"
   ]
  },
  {
   "cell_type": "markdown",
   "id": "387847a6",
   "metadata": {},
   "source": [
    "## 08 Moving average\n",
    "### Description\n",
    "Moving Average (MA) is a calculation used to analyze data points by creating a series of averages of different subsets of the full data set.\n",
    "\n",
    "Given a window size and a set of integers (from a data stream), your task is to calculate the moving average of the integers within each window.\n",
    "```\n",
    "w=3,A = [1, 2, 3, 4, 5, 6];\n",
    "```\n",
    "The 1st moving average is average(1) = 1 as there is no past value\n",
    "\n",
    "The 2nd moving average is average(1,2) = 1.5\n",
    "\n",
    "The 3rd moving average is average(1,2,3) = 2\n",
    "\n",
    "The 4th moving average is average(2,3,4) = 3\n",
    "\n",
    "...\n",
    "\n",
    "The 6th moving average is average(4,5,6) = 5\n",
    "\n",
    "![image 08](https://cdn-images-1.medium.com/fit/t/1600/480/0*t6B7iTWoq-0rRJv7.png)\n",
    "\n",
    "The output precision is set to two decimal place.\n",
    "### Input\n",
    "The first number is the window size, and the rest is astream of integers.\n",
    "### Output\n",
    "Output a stream of moving average.The output precision is set to two decimal place.\n",
    "\n",
    "**Sample Input 1** `5 8 5 2 3 8 6 4 8 5 2`\n",
    "\n",
    "**Sample Output 1** `8.00 6.50 5.00 4.50 5.20 4.80 4.60 5.80 6.20 5.00`\n",
    "\n",
    "**Sample Input 2** `5 78 95 62 48`\n",
    "\n",
    "**Sample Output 2** `78.00 86.50 78.33 70.75`\n",
    "### Hint\n",
    "Use list or queue to solve this problem"
   ]
  },
  {
   "cell_type": "code",
   "execution_count": 8,
   "id": "48d88382",
   "metadata": {},
   "outputs": [
    {
     "name": "stdout",
     "output_type": "stream",
     "text": [
      "5 8 5 2 3 8 6 4 8 5 2\n",
      "8.00 6.50 5.00 4.50 5.20 4.80 4.60 5.80 6.20 5.00 "
     ]
    }
   ],
   "source": [
    "nums = input().split()\n",
    "window_size, nums = int(nums[0]), [int(i) for i in nums[1:]]\n",
    "q = []\n",
    "sum1 = 0\n",
    "for i in nums:\n",
    "    q.append(i)\n",
    "    length = len(q)\n",
    "    if length <= window_size:\n",
    "        sum1 = sum(i for i in q)\n",
    "    else:\n",
    "        sum1 = sum(q[-window_size:])\n",
    "    res = sum1 / min(length, window_size)\n",
    "    print('{:.2f}'.format(res), end=' ')"
   ]
  }
 ],
 "metadata": {
  "kernelspec": {
   "display_name": "Python 3",
   "language": "python",
   "name": "python3"
  },
  "language_info": {
   "codemirror_mode": {
    "name": "ipython",
    "version": 3
   },
   "file_extension": ".py",
   "mimetype": "text/x-python",
   "name": "python",
   "nbconvert_exporter": "python",
   "pygments_lexer": "ipython3",
   "version": "3.8.8"
  }
 },
 "nbformat": 4,
 "nbformat_minor": 5
}
